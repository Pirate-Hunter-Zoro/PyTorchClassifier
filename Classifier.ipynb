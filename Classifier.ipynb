{
 "cells": [
  {
   "cell_type": "code",
   "execution_count": 1,
   "id": "3cd31b66-1374-418c-bd0c-13378b511862",
   "metadata": {},
   "outputs": [],
   "source": [
    "import torch\n",
    "import torch.nn as nn\n",
    "import torch.optim as optim\n",
    "from torch.utils.data import Dataset, DataLoader, Subset\n",
    "import torchvision.datasets as dsets\n",
    "import torchvision.transforms as transforms\n",
    "from torch import relu, sigmoid, tanh, selu\n",
    "\n",
    "import numpy as np\n",
    "import matplotlib.pyplot as plt\n",
    "import copy"
   ]
  },
  {
   "cell_type": "code",
   "execution_count": 2,
   "id": "60aa37b5-2fb6-457c-bd11-4a165a07c5fd",
   "metadata": {},
   "outputs": [
    {
     "name": "stdout",
     "output_type": "stream",
     "text": [
      "100000\n"
     ]
    }
   ],
   "source": [
    "path = './path/ImageNet/data'\n",
    "\n",
    "data = dsets.ImageFolder(root = path, transform = transforms.ToTensor())\n",
    "print(len(data))"
   ]
  },
  {
   "cell_type": "code",
   "execution_count": null,
   "id": "072fba08-0593-4f51-a10c-d68aff8da38d",
   "metadata": {},
   "outputs": [
    {
     "name": "stdout",
     "output_type": "stream",
     "text": [
      "5000\n"
     ]
    }
   ],
   "source": [
    "class_count = 10\n",
    "# how many classes are we interested in classifying?\n",
    "\n",
    "stop_point = 0\n",
    "while data[stop_point+1][1] < class_count:\n",
    "    stop_point += 1\n",
    "\n",
    "data = Subset(data, np.arange(stop_point+1))\n",
    "print(len(data))"
   ]
  },
  {
   "cell_type": "code",
   "execution_count": 4,
   "id": "478eb16d-e0d2-49d9-8247-f679a34a7372",
   "metadata": {},
   "outputs": [],
   "source": [
    "population = stop_point + 1 # change if you want to make smaller\n",
    "data_subset_indeces = np.random.choice(range(len(data)), population, replace=False)\n",
    "data = Subset(data, data_subset_indeces)"
   ]
  },
  {
   "cell_type": "code",
   "execution_count": 6,
   "id": "1121a3c2-e99e-4884-9d4f-bc78ef3e48ef",
   "metadata": {},
   "outputs": [
    {
     "name": "stdout",
     "output_type": "stream",
     "text": [
      "5000\n",
      "4500\n",
      "450\n",
      "50\n",
      "5000\n"
     ]
    }
   ],
   "source": [
    "# now let's get our hands on a training set, test set, and validation set\n",
    "train_num = int(len(data)*0.9)\n",
    "train_indeces = np.random.choice(range(len(data)), train_num, replace=False)\n",
    "test_and_val_indeces = np.array([i for i in range(len(data)) if i not in train_indeces])\n",
    "\n",
    "test_num = int(len(test_and_val_indeces)*0.9)\n",
    "test_indeces = Subset(test_and_val_indeces, np.random.choice(range(len(test_and_val_indeces)), test_num, replace=False))\n",
    "val_indeces = np.array([i for i in test_and_val_indeces if i not in test_indeces])\n",
    "\n",
    "print(len(data))\n",
    "print(len(train_indeces))\n",
    "print(len(test_indeces))\n",
    "print(len(val_indeces))\n",
    "print(len(train_indeces)+len(test_indeces)+len(val_indeces))"
   ]
  },
  {
   "cell_type": "code",
   "execution_count": 7,
   "id": "6b9b5bcc-fc48-42bf-9a36-81138b1fa08b",
   "metadata": {},
   "outputs": [
    {
     "name": "stdout",
     "output_type": "stream",
     "text": [
      "5000\n",
      "4500\n",
      "450\n",
      "50\n",
      "5000\n"
     ]
    }
   ],
   "source": [
    "train_set = Subset(data, train_indeces)\n",
    "test_set = Subset(data, test_indeces)\n",
    "val_set = Subset(data, val_indeces)\n",
    "\n",
    "print(len(data))\n",
    "print(len(train_set))\n",
    "print(len(test_set))\n",
    "print(len(val_set))\n",
    "print(len(train_set)+len(test_set)+len(val_set))"
   ]
  },
  {
   "cell_type": "code",
   "execution_count": 8,
   "id": "7145b46e-8663-4a05-ba2f-8c4f69e99efe",
   "metadata": {},
   "outputs": [],
   "source": [
    "def class_set(data_set):\n",
    "    \n",
    "    values = []\n",
    "    for i in range(len(data_set)):\n",
    "        values.append(data_set[i][1])\n",
    "\n",
    "    values.sort()\n",
    "    # nlog(n) time complexity - the slowest task within this function \n",
    "\n",
    "    unique = [values[0]]\n",
    "    i = 0\n",
    "    while i < len(values) - 1:\n",
    "        while i < len(values) - 1 and values[i+1] == values[i]:\n",
    "            i += 1\n",
    "        if i < len(values) - 1:\n",
    "            unique.append(values[i+1])\n",
    "        i += 1\n",
    "    # now that values is sorted, we can iterate through and add to our list of unique classifications whenever we reach a new value\n",
    "    # linear time\n",
    "\n",
    "    return unique # all of the UNIQUE classifications"
   ]
  },
  {
   "cell_type": "code",
   "execution_count": 9,
   "id": "545f088d-4686-4c6c-b248-6e90610885c2",
   "metadata": {},
   "outputs": [
    {
     "name": "stdout",
     "output_type": "stream",
     "text": [
      "[0, 1, 2, 3, 4, 5, 6, 7, 8, 9]\n",
      "[0, 1, 2, 3, 4, 5, 6, 7, 8, 9]\n",
      "[0, 1, 2, 3, 4, 5, 6, 7, 8, 9]\n",
      "[0, 1, 2, 3, 4, 5, 6, 7, 8, 9]\n"
     ]
    }
   ],
   "source": [
    "print(class_set(data))\n",
    "print(class_set(train_set))\n",
    "print(class_set(test_set))\n",
    "print(class_set(val_set))"
   ]
  },
  {
   "cell_type": "code",
   "execution_count": 10,
   "id": "399a6cb1-c8a0-4d69-b85f-1ad416e5b995",
   "metadata": {},
   "outputs": [
    {
     "data": {
      "image/png": "[encoded data removed]",
      "text/plain": [
       "<Figure size 432x288 with 1 Axes>"
      ]
     },
     "metadata": {
      "needs_background": "light"
     },
     "output_type": "display_data"
    },
    {
     "name": "stdout",
     "output_type": "stream",
     "text": [
      "1\n"
     ]
    }
   ],
   "source": [
    "plt.imshow(train_set[0][0].permute(1,2,0)) # the image\n",
    "plt.show()\n",
    "print(train_set[0][1]) # classification"
   ]
  },
  {
   "cell_type": "code",
   "execution_count": 18,
   "id": "80a502a3-9fdb-47a9-a6c7-5238d28b949a",
   "metadata": {},
   "outputs": [],
   "source": [
    "class CNN(nn.Module):\n",
    "    \n",
    "    \n",
    "    def __init__(self, layers=[2500, 1250, 625, 350, 200, 100, 50, 25, class_count], convolutions=[(3,5,1,None), (1,5,1,None), (1,5,1,None), (1,5,1,None)]):\n",
    "        \n",
    "        super(CNN, self).__init__()\n",
    "        # so that we can now call neural network modules\n",
    "        \n",
    "        self.initialized = False\n",
    "        \n",
    "        self.dims = layers\n",
    "        \n",
    "        \n",
    "        self.convs = nn.ModuleList()\n",
    "        for index, convolution in enumerate(convolutions):\n",
    "            if index > 0:\n",
    "                assert convolutions[index-1][2] == convolutions[index][0], f\"Invalid input and output channel matching at convolutions {index-1} and {index}.\"\n",
    "            \n",
    "            if convolution[3] != None:\n",
    "                conv = nn.Conv2d(in_channels=convolution[0], out_channels=convolution[2], kernel_size=convolution[1])\n",
    "                maxpool = nn.MaxPool2d(convolution[3])\n",
    "                self.convs.append(conv)\n",
    "                self.convs.append(maxpool)\n",
    "            else:\n",
    "                conv = nn.Conv2d(in_channels=convolution[0], out_channels=convolution[2], kernel_size=convolution[1])\n",
    "                self.convs.append(conv)\n",
    "            # all of the convolutions that go at the start of our network\n",
    "        \n",
    "        self.linears = nn.ModuleList()\n",
    "        for this_dim, next_dim in zip(layers, layers[1:]):\n",
    "            self.linears.append(nn.Linear(this_dim, next_dim))\n",
    "            # all of the weights and biases\n",
    "            \n",
    "        self.binary = layers[-1]==1\n",
    "        # binary or multiclass output?\n",
    "        \n",
    "        \n",
    "    def forward(self, x):\n",
    "        \n",
    "        x = x.type(torch.FloatTensor)\n",
    "        # convert x to float\n",
    "        \n",
    "        for image_changer in self.convs:\n",
    "            x = image_changer(x)\n",
    "        # run all of the convolutions/maxpools on x\n",
    "        \n",
    "        # now we need to reshape x into one vector\n",
    "        num_pixels = 1\n",
    "        for num in x.shape[1:]:\n",
    "            # I don't care about the NUMBER of images; only the number of pixels PER image\n",
    "            num_pixels *= num\n",
    "        \n",
    "        x = x.view(-1, num_pixels)\n",
    "        # roll out into one vector\n",
    "        \n",
    "        if not self.initialized:\n",
    "            # then we need to get PyTorch to count the dimensions\n",
    "            if self.dims[0] != x.shape[-1]:\n",
    "                # then we need to create a linear function to force the fit\n",
    "                new_linear = nn.Linear(x.shape[-1], self.dims[0])\n",
    "                self.linears.insert(0, new_linear)\n",
    "            self.initialized = True\n",
    "            # now we ARE initialized - the network has seen some images\n",
    "        \n",
    "        for index, linear in enumerate(self.linears):\n",
    "            if index == len(self.linears) - 1:\n",
    "                # we ARE on the last layer\n",
    "                if self.binary:\n",
    "                    x = sigmoid(linear(x))\n",
    "                    # run the linear function and apply sigmoid for the binary output\n",
    "                else:\n",
    "                    x = linear(x)\n",
    "                    # otherwise for multi-class there is no activation on the output layer\n",
    "            else:\n",
    "                # we are NOT on the last layer\n",
    "                x = relu(linear(x))\n",
    "                # apply relu activation\n",
    "        \n",
    "        return x\n",
    "        # return x\n",
    "        \n",
    "    \n",
    "    def show_progression(self, x, value, print_all=False):\n",
    "        # visually show the feedforward behavior of our network\n",
    "        \n",
    "        initial_x = copy.deepcopy(x)\n",
    "        \n",
    "        assert len(x.shape)==4 and x.shape[0]==1, \"show_progression method will only deal with one image at once - if you think you only have one, wrap it in an outer tensor.\"\n",
    "        assert self.initialized, \"Network has not yet seen any images.\"\n",
    "        \n",
    "        print('Actual Value:')\n",
    "        print(value)\n",
    "        print('\\n')\n",
    "        \n",
    "        print('Original Image:')\n",
    "        plt.imshow(x[0].permute(1, 2, 0))\n",
    "        plt.show()\n",
    "        print(x.shape)\n",
    "        # show the image\n",
    "        \n",
    "        x = x.type(torch.FloatTensor)\n",
    "        # convert x to float\n",
    "        \n",
    "        conv_count = 0\n",
    "        maxpool_count = 0\n",
    "        \n",
    "        for image_changer in self.convs:\n",
    "            \n",
    "            print('\\n')\n",
    "            \n",
    "            if isinstance(image_changer, nn.Conv2d):\n",
    "                conv_count += 1\n",
    "                print(f'Convolution {conv_count}:')\n",
    "            else:\n",
    "                # then it is a maxpool\n",
    "                maxpool_count += 1\n",
    "                print(f'Max Pool {maxpool_count}:')\n",
    "                \n",
    "            x = image_changer(x)\n",
    "            # now show the image \n",
    "            \n",
    "            permuted = x.permute(1,0,2,3)\n",
    "            # turn it into the dimensions necessary in order to show the image via matplotlib.pyplot\n",
    "            for i in range(permuted.shape[0]):\n",
    "                # sort of think of this as how many 'colors'/output channels\n",
    "                plt.imshow(permuted.detach()[i].permute(1,2,0))\n",
    "                plt.show()\n",
    "                print(\"Shape\", \":\")\n",
    "                print(x.shape)\n",
    "            print('\\n')\n",
    "                \n",
    "        # runs all of the convolutions and maxpools on x\n",
    "        \n",
    "        # now we need to reshape x into one vector\n",
    "        num_pixels = 1\n",
    "        for num in x.shape[1:]:\n",
    "            # I don't care about the NUMBER of images; only the number of pixels PER image\n",
    "            num_pixels *= num\n",
    "        \n",
    "        x = x.view(x.shape[0], num_pixels)\n",
    "        # roll out into one vector (or a collection of vectors if multiple images)\n",
    "        \n",
    "        print('Unrolled Vector:')\n",
    "        print(x.shape)\n",
    "        \n",
    "        if not self.initialized:\n",
    "            # then we need to get PyTorch to count the dimensions\n",
    "            if self.dims[0] != x.shape[-1]:\n",
    "                # then we need to create a linear function to force the fit\n",
    "                new_linear = nn.Linear(x.shape[-1], self.dims[0])\n",
    "                self.linears.insert(0, new_linear)\n",
    "            self.initialized = True\n",
    "            # now we ARE initialized - the network has seen some images\n",
    "        \n",
    "        for index, linear in enumerate(self.linears):\n",
    "            if index == len(self.linears) - 1:\n",
    "                # we ARE on the last layer\n",
    "                if self.binary:\n",
    "                    x = sigmoid(linear(x))\n",
    "                    # run the linear function and apply sigmoid for the binary output\n",
    "                else:\n",
    "                    x = linear(x)\n",
    "                    # otherwise for multi-class there is no activation on the output layer\n",
    "            else:\n",
    "                # we are NOT on the last layer\n",
    "                x = relu(linear(x))\n",
    "                # apply relu activation\n",
    "            \n",
    "            print('\\n')\n",
    "            print(f'Hidden Layer {index}:')\n",
    "            if print_all:\n",
    "                print(x.detach().tolist())\n",
    "            print(x.shape)\n",
    "            \n",
    "        print('\\n')\n",
    "        print('Prediction:')\n",
    "        print(torch.max(self.forward(initial_x), axis=1)[1].item())"
   ]
  },
  {
   "cell_type": "code",
   "execution_count": 19,
   "id": "10b80bc6-cf32-4dae-82fe-67622bf05657",
   "metadata": {},
   "outputs": [],
   "source": [
    "def train(model, train_set, batch_size, test_set, num_epochs, lr, file_path, overfit_path):\n",
    "    \n",
    "    if model.binary:\n",
    "        # binary classification\n",
    "        criterion = nn.BCELoss()\n",
    "        # log of the probability\n",
    "    else:\n",
    "        # multi-class\n",
    "        criterion = nn.CrossEntropyLoss()\n",
    "        \n",
    "    optimizer = optim.Adam(model.parameters(), lr)\n",
    "    # responsible for updating our network weights and biases\n",
    "    \n",
    "    train = DataLoader(train_set, batch_size, shuffle=True)\n",
    "    # (potentially depending on batch size) a bunch of smaller batches\n",
    "    \n",
    "    test = DataLoader(test_set, len(test_set))\n",
    "    # one big batch\n",
    "    \n",
    "    LOSS = []\n",
    "    ACCURACY = []\n",
    "    # measure by the epoch\n",
    "    \n",
    "    checkpoints = [i for i in range(num_epochs) if (i % (num_epochs//10) == 0)]\n",
    "    # 0%, 10%, 20% of the way there, etc.\n",
    "    \n",
    "    greatest_accuracy = 0\n",
    "    # changes by the epoch\n",
    "    \n",
    "    for epoch in range(num_epochs):\n",
    "        \n",
    "        epoch_loss = 0\n",
    "        \n",
    "        # first we'll train the model slightly\n",
    "        for x,y in train:\n",
    "            # let's see how our loss is looking\n",
    "            yhat = model(x)\n",
    "            \n",
    "            # DON'T DO ANY RESHAPING HERE\n",
    "            \n",
    "            loss = criterion(yhat, y)\n",
    "            # we have the loss\n",
    "            \n",
    "            epoch_loss += loss.data\n",
    "            # keep track of this batch's loss\n",
    "            \n",
    "            optimizer.zero_grad()\n",
    "            # refresh the gradient\n",
    "            \n",
    "            loss.backward()\n",
    "            # compute the gradient\n",
    "            \n",
    "            optimizer.step()\n",
    "            # update the parameters\n",
    "            \n",
    "        LOSS.append(epoch_loss)\n",
    "        \n",
    "        # that is one epoch's worth of training\n",
    "        # now to check on the accuracy\n",
    "        \n",
    "        for x,y in test:\n",
    "            # one big batch - so this loop only runs once\n",
    "            \n",
    "            if not model.binary:\n",
    "                # multi-class\n",
    "                yhat = model(x)\n",
    "                yhat = torch.max(yhat, axis=1)[1]\n",
    "                # the index with the maximum value is the classification\n",
    "            else:\n",
    "                # binary\n",
    "                yhat = model(x)\n",
    "                yhat = yhat.view(-1,1)\n",
    "                yhat = torch.round(yhat)\n",
    "                # 0 --> one classification\n",
    "                # 1 --> the other classification\n",
    "            \n",
    "            yhat = yhat.view(-1,1)\n",
    "            y = y.view(-1,1)\n",
    "            num_correct = torch.sum(yhat==y)\n",
    "            # the number of images that were classified correctly\n",
    "            accuracy = num_correct / len(test_set)\n",
    "            # we can just create the variables here since this loop only runs once\n",
    "        \n",
    "        # AFTER EACH EPOCH\n",
    "        ACCURACY.append(accuracy)\n",
    "        \n",
    "        if accuracy > greatest_accuracy:\n",
    "            # broke the record\n",
    "            greatest_accuracy = accuracy\n",
    "            torch.save(model.state_dict(), file_path)\n",
    "            # keep track of that model\n",
    "        \n",
    "        if epoch in checkpoints:\n",
    "            # then announce that we're at a checkpoint\n",
    "            print(f'{100*epoch//num_epochs}% through training...')\n",
    "    \n",
    "    # NOW all of the training has been completed\n",
    "    \n",
    "    torch.save(model.state_dict(), overfit_path)\n",
    "    # the model with the most training, even if not the greatest accuracy\n",
    "    \n",
    "    plt.plot(LOSS, 'rx')\n",
    "    plt.xlabel('Epoch Number')\n",
    "    plt.ylabel('Training Loss')\n",
    "    plt.title('Training Loss by the Epoch')\n",
    "    plt.show()\n",
    "    \n",
    "    plt.plot(ACCURACY, 'go')\n",
    "    plt.xlabel('Epoch Number')\n",
    "    plt.ylabel('Testing Accuracy')\n",
    "    plt.title('Testing Accuracy by the Epoch')\n",
    "    plt.show()\n",
    "    \n",
    "# stores the trained and overfit model parameters into their respective 'txt' files"
   ]
  },
  {
   "cell_type": "code",
   "execution_count": 20,
   "id": "ecd6e3d0-0530-4653-b236-a0ad7e04d3bd",
   "metadata": {},
   "outputs": [],
   "source": [
    "model = CNN()"
   ]
  },
  {
   "cell_type": "code",
   "execution_count": 21,
   "id": "45a6b1d7-c223-44c9-b0f9-82e3890cd6e6",
   "metadata": {},
   "outputs": [
    {
     "name": "stdout",
     "output_type": "stream",
     "text": [
      "tensor([[-0.1046, -0.1586, -0.0350, -0.2182, -0.0503, -0.1765, -0.0963,  0.0107,\n",
      "         -0.1140, -0.0516],\n",
      "        [-0.1046, -0.1586, -0.0350, -0.2182, -0.0503, -0.1765, -0.0963,  0.0107,\n",
      "         -0.1140, -0.0516]], grad_fn=<AddmmBackward0>)\n"
     ]
    }
   ],
   "source": [
    "train_duo = DataLoader(train_set, 2)\n",
    "for x,y in train_duo:\n",
    "    yhat = model(x)\n",
    "    print(yhat)\n",
    "    break"
   ]
  },
  {
   "cell_type": "code",
   "execution_count": 22,
   "id": "cafeeba0-c41c-4833-9cb2-9ea8fed5f0fc",
   "metadata": {},
   "outputs": [
    {
     "name": "stdout",
     "output_type": "stream",
     "text": [
      "Actual Value:\n",
      "1\n",
      "\n",
      "\n",
      "Original Image:\n"
     ]
    },
    {
     "data": {
      "image/png": "[encoded data removed]",
      "text/plain": [
       "<Figure size 432x288 with 1 Axes>"
      ]
     },
     "metadata": {
      "needs_background": "light"
     },
     "output_type": "display_data"
    },
    {
     "name": "stdout",
     "output_type": "stream",
     "text": [
      "torch.Size([1, 3, 64, 64])\n",
      "\n",
      "\n",
      "Convolution 1:\n"
     ]
    },
    {
     "data": {
      "image/png": "[encoded data removed]",
      "text/plain": [
       "<Figure size 432x288 with 1 Axes>"
      ]
     },
     "metadata": {
      "needs_background": "light"
     },
     "output_type": "display_data"
    },
    {
     "name": "stdout",
     "output_type": "stream",
     "text": [
      "Shape :\n",
      "torch.Size([1, 1, 60, 60])\n",
      "\n",
      "\n",
      "\n",
      "\n",
      "Convolution 2:\n"
     ]
    },
    {
     "data": {
      "image/png": "[encoded data removed]",
      "text/plain": [
       "<Figure size 432x288 with 1 Axes>"
      ]
     },
     "metadata": {
      "needs_background": "light"
     },
     "output_type": "display_data"
    },
    {
     "name": "stdout",
     "output_type": "stream",
     "text": [
      "Shape :\n",
      "torch.Size([1, 1, 56, 56])\n",
      "\n",
      "\n",
      "\n",
      "\n",
      "Convolution 3:\n"
     ]
    },
    {
     "data": {
      "image/png": "[encoded data removed]",
      "text/plain": [
       "<Figure size 432x288 with 1 Axes>"
      ]
     },
     "metadata": {
      "needs_background": "light"
     },
     "output_type": "display_data"
    },
    {
     "name": "stdout",
     "output_type": "stream",
     "text": [
      "Shape :\n",
      "torch.Size([1, 1, 52, 52])\n",
      "\n",
      "\n",
      "\n",
      "\n",
      "Convolution 4:\n"
     ]
    },
    {
     "data": {
      "image/png": "[encoded data removed]",
      "text/plain": [
       "<Figure size 432x288 with 1 Axes>"
      ]
     },
     "metadata": {
      "needs_background": "light"
     },
     "output_type": "display_data"
    },
    {
     "name": "stdout",
     "output_type": "stream",
     "text": [
      "Shape :\n",
      "torch.Size([1, 1, 48, 48])\n",
      "\n",
      "\n",
      "Unrolled Vector:\n",
      "torch.Size([1, 2304])\n",
      "\n",
      "\n",
      "Hidden Layer 0:\n",
      "torch.Size([1, 2500])\n",
      "\n",
      "\n",
      "Hidden Layer 1:\n",
      "torch.Size([1, 1250])\n",
      "\n",
      "\n",
      "Hidden Layer 2:\n",
      "torch.Size([1, 625])\n",
      "\n",
      "\n",
      "Hidden Layer 3:\n",
      "torch.Size([1, 350])\n",
      "\n",
      "\n",
      "Hidden Layer 4:\n",
      "torch.Size([1, 200])\n",
      "\n",
      "\n",
      "Hidden Layer 5:\n",
      "torch.Size([1, 100])\n",
      "\n",
      "\n",
      "Hidden Layer 6:\n",
      "torch.Size([1, 50])\n",
      "\n",
      "\n",
      "Hidden Layer 7:\n",
      "torch.Size([1, 25])\n",
      "\n",
      "\n",
      "Hidden Layer 8:\n",
      "torch.Size([1, 10])\n",
      "\n",
      "\n",
      "Prediction:\n",
      "7\n"
     ]
    }
   ],
   "source": [
    "array = train_set[0][0].detach().numpy()\n",
    "tensor = torch.tensor(np.array([array]))\n",
    "model.show_progression(tensor, train_set[0][1])"
   ]
  },
  {
   "cell_type": "code",
   "execution_count": 24,
   "id": "3ea706de-3a9e-41ea-bc58-26e9080cfa63",
   "metadata": {},
   "outputs": [
    {
     "name": "stdout",
     "output_type": "stream",
     "text": [
      "0% through training...\n",
      "10% through training...\n",
      "20% through training...\n",
      "30% through training...\n",
      "40% through training...\n",
      "50% through training...\n",
      "60% through training...\n",
      "70% through training...\n",
      "80% through training...\n",
      "90% through training...\n"
     ]
    },
    {
     "data": {
      "image/png": "[encoded data removed]",
      "text/plain": [
       "<Figure size 432x288 with 1 Axes>"
      ]
     },
     "metadata": {
      "needs_background": "light"
     },
     "output_type": "display_data"
    },
    {
     "data": {
      "image/png": "[encoded data removed]",
      "text/plain": [
       "<Figure size 432x288 with 1 Axes>"
      ]
     },
     "metadata": {
      "needs_background": "light"
     },
     "output_type": "display_data"
    }
   ],
   "source": [
    "batch_size = int(len(train_set) / 10)\n",
    "num_epochs = 100\n",
    "lr = 0.002\n",
    "file_path = \"./model.txt\"\n",
    "overfit_path = \"./overfit.txt\"\n",
    "\n",
    "train(model, train_set, batch_size, test_set, num_epochs, lr, file_path, overfit_path)"
   ]
  },
  {
   "cell_type": "code",
   "execution_count": 25,
   "id": "182f42c2-3aed-497f-9a61-f8a8fda538f3",
   "metadata": {},
   "outputs": [
    {
     "data": {
      "text/plain": [
       "CNN(\n",
       "  (convs): ModuleList(\n",
       "    (0): Conv2d(3, 1, kernel_size=(5, 5), stride=(1, 1))\n",
       "    (1): Conv2d(1, 1, kernel_size=(5, 5), stride=(1, 1))\n",
       "    (2): Conv2d(1, 1, kernel_size=(5, 5), stride=(1, 1))\n",
       "    (3): Conv2d(1, 1, kernel_size=(5, 5), stride=(1, 1))\n",
       "  )\n",
       "  (linears): ModuleList(\n",
       "    (0): Linear(in_features=2304, out_features=2500, bias=True)\n",
       "    (1): Linear(in_features=2500, out_features=1250, bias=True)\n",
       "    (2): Linear(in_features=1250, out_features=625, bias=True)\n",
       "    (3): Linear(in_features=625, out_features=350, bias=True)\n",
       "    (4): Linear(in_features=350, out_features=200, bias=True)\n",
       "    (5): Linear(in_features=200, out_features=100, bias=True)\n",
       "    (6): Linear(in_features=100, out_features=50, bias=True)\n",
       "    (7): Linear(in_features=50, out_features=25, bias=True)\n",
       "    (8): Linear(in_features=25, out_features=10, bias=True)\n",
       "  )\n",
       ")"
      ]
     },
     "execution_count": 25,
     "metadata": {},
     "output_type": "execute_result"
    }
   ],
   "source": [
    "best_model = CNN()\n",
    "array = train_set[0][0].numpy()\n",
    "array = np.array([array])\n",
    "# add another dimension\n",
    "initializer = best_model(torch.tensor(array))\n",
    "# to make sure the dimensions match from the convolution to the hidden layer\n",
    "best_model.load_state_dict(torch.load(\"./model.txt\"))\n",
    "best_model.eval()"
   ]
  },
  {
   "cell_type": "code",
   "execution_count": 26,
   "id": "48be3ee6-e5a8-496c-8325-f0f08fdb78f1",
   "metadata": {},
   "outputs": [],
   "source": [
    "def get_accuracy(model, test_set):\n",
    "    \n",
    "    test = DataLoader(test_set, len(test_set))\n",
    "    # one big batch\n",
    "    \n",
    "    for x,y in test:\n",
    "        # one big batch - so this loop only runs once\n",
    "\n",
    "        if not model.binary:\n",
    "            # multi-class\n",
    "            yhat = model(x)\n",
    "            yhat = torch.max(yhat, axis=1)[1]\n",
    "            # the index with the maximum value is the classification\n",
    "        else:\n",
    "            # binary\n",
    "            yhat = model(x)\n",
    "            yhat = yhat.view(-1,1)\n",
    "            yhat = torch.round(yhat)\n",
    "            # 0 --> one classification\n",
    "            # 1 --> the other classification\n",
    "\n",
    "        yhat = yhat.view(-1,1)\n",
    "        y = y.view(-1,1)\n",
    "        num_correct = torch.sum(yhat==y)\n",
    "        # the number of images that were classified correctly\n",
    "        accuracy = num_correct / len(test_set)\n",
    "        # we can just create the variables here since this loop only runs once\n",
    "    \n",
    "    return accuracy.item()"
   ]
  },
  {
   "cell_type": "code",
   "execution_count": 27,
   "id": "ee3871fb-8919-41f4-9fb3-c69282e8361c",
   "metadata": {},
   "outputs": [
    {
     "name": "stdout",
     "output_type": "stream",
     "text": [
      "0.23333333432674408\n"
     ]
    }
   ],
   "source": [
    "print(get_accuracy(best_model, test_set))"
   ]
  },
  {
   "cell_type": "code",
   "execution_count": 28,
   "id": "7a7af360-aada-4b0b-8dad-909dcc6f935f",
   "metadata": {},
   "outputs": [
    {
     "name": "stdout",
     "output_type": "stream",
     "text": [
      "0.9975555539131165\n"
     ]
    }
   ],
   "source": [
    "print(get_accuracy(best_model, train_set))"
   ]
  },
  {
   "cell_type": "code",
   "execution_count": 29,
   "id": "36f3af86-bced-438f-bb64-dd7225564b56",
   "metadata": {},
   "outputs": [
    {
     "data": {
      "text/plain": [
       "CNN(\n",
       "  (convs): ModuleList(\n",
       "    (0): Conv2d(3, 1, kernel_size=(5, 5), stride=(1, 1))\n",
       "    (1): Conv2d(1, 1, kernel_size=(5, 5), stride=(1, 1))\n",
       "    (2): Conv2d(1, 1, kernel_size=(5, 5), stride=(1, 1))\n",
       "    (3): Conv2d(1, 1, kernel_size=(5, 5), stride=(1, 1))\n",
       "  )\n",
       "  (linears): ModuleList(\n",
       "    (0): Linear(in_features=2304, out_features=2500, bias=True)\n",
       "    (1): Linear(in_features=2500, out_features=1250, bias=True)\n",
       "    (2): Linear(in_features=1250, out_features=625, bias=True)\n",
       "    (3): Linear(in_features=625, out_features=350, bias=True)\n",
       "    (4): Linear(in_features=350, out_features=200, bias=True)\n",
       "    (5): Linear(in_features=200, out_features=100, bias=True)\n",
       "    (6): Linear(in_features=100, out_features=50, bias=True)\n",
       "    (7): Linear(in_features=50, out_features=25, bias=True)\n",
       "    (8): Linear(in_features=25, out_features=10, bias=True)\n",
       "  )\n",
       ")"
      ]
     },
     "execution_count": 29,
     "metadata": {},
     "output_type": "execute_result"
    }
   ],
   "source": [
    "overfit_model = CNN()\n",
    "array = train_set[0][0].numpy()\n",
    "array = np.array([array])\n",
    "# add another dimension\n",
    "initializer = overfit_model(torch.tensor(array))\n",
    "# to make sure the dimensions match from the convolution to the hidden layer\n",
    "overfit_model.load_state_dict(torch.load(\"./overfit.txt\"))\n",
    "overfit_model.eval()"
   ]
  },
  {
   "cell_type": "code",
   "execution_count": 30,
   "id": "ba442926-2808-4ef6-b5a7-8b47bcf20142",
   "metadata": {},
   "outputs": [
    {
     "name": "stdout",
     "output_type": "stream",
     "text": [
      "0.18444444239139557\n"
     ]
    }
   ],
   "source": [
    "print(get_accuracy(overfit_model, test_set))"
   ]
  },
  {
   "cell_type": "code",
   "execution_count": 31,
   "id": "0be4e6fd-cc06-484b-8afe-02dd9f643fe6",
   "metadata": {},
   "outputs": [
    {
     "name": "stdout",
     "output_type": "stream",
     "text": [
      "0.995555579662323\n"
     ]
    }
   ],
   "source": [
    "print(get_accuracy(overfit_model, train_set))"
   ]
  },
  {
   "cell_type": "code",
   "execution_count": 32,
   "id": "829afe33-8425-4332-b179-da03280097db",
   "metadata": {},
   "outputs": [
    {
     "name": "stdout",
     "output_type": "stream",
     "text": [
      "0.10199999809265137\n",
      "0.08444444090127945\n"
     ]
    }
   ],
   "source": [
    "random_model = CNN()\n",
    "print(get_accuracy(random_model, train_set))\n",
    "print(get_accuracy(random_model, test_set))"
   ]
  }
 ],
 "metadata": {
  "kernelspec": {
   "display_name": "Python 3 (ipykernel)",
   "language": "python",
   "name": "python3"
  },
  "language_info": {
   "codemirror_mode": {
    "name": "ipython",
    "version": 3
   },
   "file_extension": ".py",
   "mimetype": "text/x-python",
   "name": "python",
   "nbconvert_exporter": "python",
   "pygments_lexer": "ipython3",
   "version": "3.9.12"
  }
 },
 "nbformat": 4,
 "nbformat_minor": 5
}
